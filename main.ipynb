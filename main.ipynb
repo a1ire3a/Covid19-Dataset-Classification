{
  "nbformat": 4,
  "nbformat_minor": 0,
  "metadata": {
    "colab": {
      "name": "ML Final.ipynb",
      "provenance": [],
      "mount_file_id": "1EHBKuef6vzoJ5ribga_9ekwFYrDBu2sk",
      "authorship_tag": "ABX9TyMwMiSKkGiUzpakjhVxzH4r",
      "include_colab_link": true
    },
    "kernelspec": {
      "name": "python3",
      "display_name": "Python 3"
    },
    "language_info": {
      "name": "python"
    },
    "accelerator": "GPU"
  },
  "cells": [
    {
      "cell_type": "markdown",
      "metadata": {
        "id": "view-in-github",
        "colab_type": "text"
      },
      "source": [
        "<a href=\"https://colab.research.google.com/github/a1ire3a/Covid19-Datasets-Classification/blob/main/main.ipynb\" target=\"_parent\"><img src=\"https://colab.research.google.com/assets/colab-badge.svg\" alt=\"Open In Colab\"/></a>"
      ]
    },
    {
      "cell_type": "code",
      "execution_count": null,
      "metadata": {
        "id": "7sExWNNvSZdZ",
        "colab": {
          "base_uri": "https://localhost:8080/"
        },
        "outputId": "8ec4d4d4-d2c4-41e0-cba9-a7e7247be437"
      },
      "outputs": [
        {
          "output_type": "stream",
          "name": "stdout",
          "text": [
            "Drive already mounted at /content/drive; to attempt to forcibly remount, call drive.mount(\"/content/drive\", force_remount=True).\n"
          ]
        }
      ],
      "source": [
        "import numpy as np\n",
        "import timeit\n",
        "import cv2\n",
        "import glob\n",
        "from sklearn.svm import SVC\n",
        "from sklearn.multiclass import OneVsRestClassifier\n",
        "from sklearn.metrics import accuracy_score\n",
        "from sklearn.linear_model import LogisticRegression\n",
        "from sklearn.preprocessing import StandardScaler\n",
        "from sklearn.decomposition import PCA\n",
        "from sklearn.discriminant_analysis import LinearDiscriminantAnalysis\n",
        "import tensorflow as tf\n",
        "from keras import Input\n",
        "from keras.models import Sequential\n",
        "from keras.layers import Conv2D, Dense, Flatten, MaxPooling2D, AveragePooling2D\n",
        "from google.colab import drive\n",
        "drive.mount('/content/drive')"
      ]
    },
    {
      "cell_type": "markdown",
      "source": [
        "# ***Data Preprocessing***"
      ],
      "metadata": {
        "id": "EkfHm-BtU5ZL"
      }
    },
    {
      "cell_type": "code",
      "source": [
        "train_image = []\n",
        "train_label = []\n",
        "test_image = []\n",
        "test_label = []\n",
        "\n",
        "train_image_cnn = []\n",
        "test_image_cnn = []\n",
        "\n",
        "train_image_gcn = []\n",
        "test_image_gcn = []\n",
        "\n",
        "for filename in glob.glob('/content/drive/MyDrive/Colab Notebooks/Covid19-dataset/train/Covid/*'):\n",
        "    img = cv2.imread(filename)\n",
        "    gray = cv2.cvtColor(img, cv2.COLOR_BGR2GRAY)\n",
        "    res = cv2.resize(gray, (300, 300))\n",
        "    train_image_cnn.append(res)\n",
        "    arr = np.array(res)\n",
        "    flat_arr = arr.ravel()\n",
        "    train_image.append(flat_arr)\n",
        "    train_label.append(0)\n",
        "\n",
        "    res_gcn = cv2.resize(img,(300,300))\n",
        "    train_image_gcn.append(res_gcn)\n",
        "    \n",
        "for filename in glob.glob('/content/drive/MyDrive/Colab Notebooks/Covid19-dataset/train/Normal/*'):\n",
        "    img = cv2.imread(filename)\n",
        "    gray = cv2.cvtColor(img, cv2.COLOR_BGR2GRAY)\n",
        "    res = cv2.resize(gray, (300, 300))\n",
        "    train_image_cnn.append(res)\n",
        "    arr = np.array(res)\n",
        "    flat_arr = arr.ravel()\n",
        "    train_image.append(flat_arr)\n",
        "    train_label.append(1)\n",
        "\n",
        "    res_gcn = cv2.resize(img,(300,300))\n",
        "    train_image_gcn.append(res_gcn)\n",
        "    \n",
        "for filename in glob.glob('/content/drive/MyDrive/Colab Notebooks/Covid19-dataset/train/Viral Pneumonia/*'):\n",
        "    img = cv2.imread(filename)\n",
        "    gray = cv2.cvtColor(img, cv2.COLOR_BGR2GRAY)\n",
        "    res = cv2.resize(gray, (300, 300))\n",
        "    train_image_cnn.append(res)\n",
        "    arr = np.array(res)\n",
        "    flat_arr = arr.ravel()\n",
        "    train_image.append(flat_arr)\n",
        "    train_label.append(2)\n",
        "\n",
        "    res_gcn = cv2.resize(img,(300,300))\n",
        "    train_image_gcn.append(res_gcn)\n",
        "    \n",
        "for filename in glob.glob('/content/drive/MyDrive/Colab Notebooks/Covid19-dataset/test/Covid/*'):\n",
        "    img = cv2.imread(filename)\n",
        "    gray = cv2.cvtColor(img, cv2.COLOR_BGR2GRAY)\n",
        "    res = cv2.resize(gray, (300, 300))\n",
        "    test_image_cnn.append(res)\n",
        "    arr = np.array(res)\n",
        "    flat_arr = arr.ravel()\n",
        "    test_image.append(flat_arr)\n",
        "    test_label.append(0)\n",
        "\n",
        "    res_gcn = cv2.resize(img,(300,300))\n",
        "    test_image_gcn.append(res_gcn)\n",
        "    \n",
        "for filename in glob.glob('/content/drive/MyDrive/Colab Notebooks/Covid19-dataset/test/Normal/*'):\n",
        "    img = cv2.imread(filename)\n",
        "    gray = cv2.cvtColor(img, cv2.COLOR_BGR2GRAY)\n",
        "    res = cv2.resize(gray, (300, 300))\n",
        "    test_image_cnn.append(res)\n",
        "    arr = np.array(res)\n",
        "    flat_arr = arr.ravel()\n",
        "    test_image.append(flat_arr)\n",
        "    test_label.append(1)\n",
        "\n",
        "    res_gcn = cv2.resize(img,(300,300))\n",
        "    test_image_gcn.append(res_gcn)\n",
        "    \n",
        "for filename in glob.glob('/content/drive/MyDrive/Colab Notebooks/Covid19-dataset/test/Viral Pneumonia/*'):\n",
        "    img = cv2.imread(filename)\n",
        "    gray = cv2.cvtColor(img, cv2.COLOR_BGR2GRAY)\n",
        "    res = cv2.resize(gray, (300, 300))\n",
        "    test_image_cnn.append(res)\n",
        "    arr = np.array(res)\n",
        "    flat_arr = arr.ravel()\n",
        "    test_image.append(flat_arr)\n",
        "    test_label.append(2)\n",
        "\n",
        "    res_gcn = cv2.resize(img,(300,300))\n",
        "    test_image_gcn.append(res_gcn)\n",
        "    \n",
        "train_image = np.asarray(train_image)\n",
        "train_label = np.asarray(train_label)\n",
        "test_image = np.asarray(test_image)\n",
        "test_label = np.asarray(test_label)"
      ],
      "metadata": {
        "id": "FtJ3D8K8TzKG"
      },
      "execution_count": null,
      "outputs": []
    },
    {
      "cell_type": "markdown",
      "source": [
        "Normalize data for CNN model"
      ],
      "metadata": {
        "id": "xUuPAnslVG5D"
      }
    },
    {
      "cell_type": "code",
      "source": [
        "train_image_cnn = np.asarray(train_image_cnn)\n",
        "test_image_cnn = np.asarray(test_image_cnn)\n",
        "train_image_cnn = train_image_cnn/255.0\n",
        "test_image_cnn = test_image_cnn/255.0"
      ],
      "metadata": {
        "id": "MFMs6rq3gxrj"
      },
      "execution_count": null,
      "outputs": []
    },
    {
      "cell_type": "markdown",
      "source": [
        "Normalize data for SVM and logistic regression"
      ],
      "metadata": {
        "id": "QmhgeOP5VStF"
      }
    },
    {
      "cell_type": "code",
      "source": [
        "train_image_std = StandardScaler().fit_transform(train_image)\n",
        "test_image_std = StandardScaler().fit_transform(test_image)"
      ],
      "metadata": {
        "id": "M4mNj23nT1lU"
      },
      "execution_count": null,
      "outputs": []
    },
    {
      "cell_type": "markdown",
      "source": [
        "SVM model initialization"
      ],
      "metadata": {
        "id": "MXbDXFCLVb5g"
      }
    },
    {
      "cell_type": "code",
      "source": [
        "clf_svm = SVC(kernel='poly')"
      ],
      "metadata": {
        "id": "5RR6a34kT3Xs"
      },
      "execution_count": null,
      "outputs": []
    },
    {
      "cell_type": "markdown",
      "source": [
        "SVM train and test"
      ],
      "metadata": {
        "id": "WVlTsRFMVh_I"
      }
    },
    {
      "cell_type": "code",
      "source": [
        "start = timeit.default_timer()\n",
        "clf_svm.fit(train_image_std, train_label)\n",
        "pred_label_svm = clf_svm.predict(test_image_std)\n",
        "acc_svm = accuracy_score(test_label, pred_label_svm)\n",
        "stop = timeit.default_timer()\n",
        "\n",
        "print('Time: ', stop - start) \n",
        "print('SVM Accuracy: ', acc_svm)"
      ],
      "metadata": {
        "colab": {
          "base_uri": "https://localhost:8080/"
        },
        "id": "vwDs3lemT5Zh",
        "outputId": "e1d98548-eaef-40e3-fde8-f46af27dfef9"
      },
      "execution_count": null,
      "outputs": [
        {
          "output_type": "stream",
          "name": "stdout",
          "text": [
            "Time:  6.905712615000084\n",
            "SVM Accuracy:  0.8787878787878788\n"
          ]
        }
      ]
    },
    {
      "cell_type": "markdown",
      "source": [
        "Logistic regression initialization"
      ],
      "metadata": {
        "id": "gsDYd3aUVp0V"
      }
    },
    {
      "cell_type": "code",
      "source": [
        "clf_LR = LogisticRegression(max_iter=300)"
      ],
      "metadata": {
        "id": "MExkl8AqT55t"
      },
      "execution_count": null,
      "outputs": []
    },
    {
      "cell_type": "markdown",
      "source": [
        "Logistic regression train and test"
      ],
      "metadata": {
        "id": "EW_0-hgVVuis"
      }
    },
    {
      "cell_type": "code",
      "source": [
        "start = timeit.default_timer()\n",
        "clf_LR.fit(train_image_std, train_label)\n",
        "pred_label_LR = clf_LR.predict(test_image_std)\n",
        "acc_LR = accuracy_score(test_label, pred_label_LR)\n",
        "stop = timeit.default_timer()\n",
        "\n",
        "print('Time: ', stop - start) \n",
        "print('Logistic Regresssion Accuracy: ', acc_LR)"
      ],
      "metadata": {
        "colab": {
          "base_uri": "https://localhost:8080/"
        },
        "id": "kOsCY6eLT7eW",
        "outputId": "bcd02d7c-4b46-4377-ae1f-5f9cdc26257e"
      },
      "execution_count": null,
      "outputs": [
        {
          "output_type": "stream",
          "name": "stdout",
          "text": [
            "Time:  24.81545259199993\n",
            "Logistic Regresssion Accuracy:  0.8939393939393939\n"
          ]
        }
      ]
    },
    {
      "cell_type": "code",
      "source": [
        ""
      ],
      "metadata": {
        "id": "id9mBlR5V2jn"
      },
      "execution_count": null,
      "outputs": []
    },
    {
      "cell_type": "markdown",
      "source": [
        "# ***PCA***"
      ],
      "metadata": {
        "id": "aKzdNHv-V0Dx"
      }
    },
    {
      "cell_type": "code",
      "source": [
        "pca = PCA(n_components=2)\n",
        "train_image_std_pca = pca.fit(train_image_std).transform(train_image_std)\n",
        "test_image_std_pca = pca.fit(test_image_std).transform(test_image_std)"
      ],
      "metadata": {
        "id": "HcS-7mFjT8-2"
      },
      "execution_count": null,
      "outputs": []
    },
    {
      "cell_type": "markdown",
      "source": [
        "# ***LDA***"
      ],
      "metadata": {
        "id": "A3g8oF0kV3xR"
      }
    },
    {
      "cell_type": "code",
      "source": [
        "lda = LinearDiscriminantAnalysis(n_components=2)\n",
        "train_image_std_lda = lda.fit(train_image_std, train_label).transform(train_image_std)\n",
        "test_image_std_lda = lda.fit(test_image_std, test_label).transform(test_image_std)"
      ],
      "metadata": {
        "id": "Lrqxx9DfT-lr"
      },
      "execution_count": null,
      "outputs": []
    },
    {
      "cell_type": "markdown",
      "source": [
        "SVM with pca"
      ],
      "metadata": {
        "id": "wa8CS6AVWBct"
      }
    },
    {
      "cell_type": "code",
      "source": [
        "start = timeit.default_timer()\n",
        "clf_svm.fit(train_image_std_pca, train_label)\n",
        "pred_label_svm = clf_svm.predict(test_image_std_pca)\n",
        "acc_svm = accuracy_score(test_label, pred_label_svm)\n",
        "stop = timeit.default_timer()\n",
        "\n",
        "print('Time: ', stop - start) \n",
        "print('SVM Accuracy with pca: ', acc_svm)"
      ],
      "metadata": {
        "colab": {
          "base_uri": "https://localhost:8080/"
        },
        "id": "QXkE7BtaUAUx",
        "outputId": "1fb6b7a6-3d29-4109-e68a-5d014b3ac6d6"
      },
      "execution_count": null,
      "outputs": [
        {
          "output_type": "stream",
          "name": "stdout",
          "text": [
            "Time:  0.008689893998962361\n",
            "SVM Accuracy with pca:  0.7424242424242424\n"
          ]
        }
      ]
    },
    {
      "cell_type": "markdown",
      "source": [
        "Logistic regression with pca"
      ],
      "metadata": {
        "id": "vpUptsKsWFf2"
      }
    },
    {
      "cell_type": "code",
      "source": [
        "start = timeit.default_timer()\n",
        "clf_LR.fit(train_image_std_pca, train_label)\n",
        "pred_label_LR = clf_LR.predict(test_image_std_pca)\n",
        "acc_LR = accuracy_score(test_label, pred_label_LR)\n",
        "stop = timeit.default_timer()\n",
        "\n",
        "print('Time: ', stop - start) \n",
        "print('Logistic Regresssion Accuracy pca: ', acc_LR)"
      ],
      "metadata": {
        "colab": {
          "base_uri": "https://localhost:8080/"
        },
        "id": "-iZmEfFSUC14",
        "outputId": "d3374d49-0ab8-4226-970f-30ed39ee8fe8"
      },
      "execution_count": null,
      "outputs": [
        {
          "output_type": "stream",
          "name": "stdout",
          "text": [
            "Time:  0.03679871200074558\n",
            "Logistic Regresssion Accuracy pca:  0.7727272727272727\n"
          ]
        }
      ]
    },
    {
      "cell_type": "markdown",
      "source": [
        "SVM with LDA"
      ],
      "metadata": {
        "id": "fnMpUg1OWLau"
      }
    },
    {
      "cell_type": "code",
      "source": [
        "start = timeit.default_timer()\n",
        "clf_svm.fit(train_image_std_lda, train_label)\n",
        "pred_label_svm = clf_svm.predict(test_image_std_lda)\n",
        "acc_svm = accuracy_score(test_label, pred_label_svm)\n",
        "stop = timeit.default_timer()\n",
        "\n",
        "print('Time: ', stop - start) \n",
        "print('SVM Accuracy with lda: ', acc_svm)"
      ],
      "metadata": {
        "colab": {
          "base_uri": "https://localhost:8080/"
        },
        "id": "prF8UUm1UH0g",
        "outputId": "ed2ae8d4-1dac-496c-efb7-fc2a2a845cda"
      },
      "execution_count": null,
      "outputs": [
        {
          "output_type": "stream",
          "name": "stdout",
          "text": [
            "Time:  0.002268855000011172\n",
            "SVM Accuracy with lda:  0.9696969696969697\n"
          ]
        }
      ]
    },
    {
      "cell_type": "markdown",
      "source": [
        "Logistic regression with LDA"
      ],
      "metadata": {
        "id": "p80n6f3KWN3-"
      }
    },
    {
      "cell_type": "code",
      "source": [
        "start = timeit.default_timer()\n",
        "clf_LR.fit(train_image_std_lda, train_label)\n",
        "pred_label_LR = clf_LR.predict(test_image_std_lda)\n",
        "acc_LR = accuracy_score(test_label, pred_label_LR)\n",
        "stop = timeit.default_timer()\n",
        "\n",
        "print('Time: ', stop - start) \n",
        "print('Logistic Regresssion Accuracy lda: ', acc_LR)"
      ],
      "metadata": {
        "colab": {
          "base_uri": "https://localhost:8080/"
        },
        "id": "WjmdGvPDUJVB",
        "outputId": "0fc59601-0c43-43b1-91aa-3b58cfbaf266"
      },
      "execution_count": null,
      "outputs": [
        {
          "output_type": "stream",
          "name": "stdout",
          "text": [
            "Time:  0.023233625001012115\n",
            "Logistic Regresssion Accuracy lda:  0.9848484848484849\n"
          ]
        }
      ]
    },
    {
      "cell_type": "markdown",
      "source": [
        "# ***GCN***"
      ],
      "metadata": {
        "id": "TcAU6r5IWQZ1"
      }
    },
    {
      "cell_type": "code",
      "source": [
        "import numpy\n",
        "import scipy\n",
        "\n",
        "def global_contrast_normalization(filename, s, lmda, epsilon):\n",
        "    X = numpy.array(filename)\n",
        "\n",
        "    # replacement for the loop\n",
        "    X_average = numpy.mean(X)\n",
        "    \n",
        "    X = X - X_average\n",
        "\n",
        "    \n",
        "    contrast = numpy.sqrt(lmda + numpy.mean(X**2))\n",
        "\n",
        "    X = s * X / max(contrast, epsilon)\n",
        "\n",
        "    # scipy can handle it\n",
        "    return X"
      ],
      "metadata": {
        "id": "F2GMi6E35TOi"
      },
      "execution_count": null,
      "outputs": []
    },
    {
      "cell_type": "code",
      "source": [
        "gcn_train = np.asarray([global_contrast_normalization(x,1, 0.1, 0.000000001) for x in train_image_cnn])\n",
        "gcn_test = np.asarray([global_contrast_normalization(x,1, 0.1, 0.000000001) for x in test_image_cnn])"
      ],
      "metadata": {
        "id": "F84X9HVR3w_j"
      },
      "execution_count": null,
      "outputs": []
    },
    {
      "cell_type": "code",
      "source": [
        "train_flat = []\n",
        "test_flat = []\n",
        "for X in gcn_train:\n",
        "    arr = np.array(X)\n",
        "    flat_arr = arr.ravel()\n",
        "    train_flat.append(flat_arr)\n",
        "\n",
        "for X in gcn_test:\n",
        "    arr = np.array(X)\n",
        "    flat_arr = arr.ravel()\n",
        "    test_flat.append(flat_arr)\n",
        "\n",
        "train_flat = np.asarray(train_flat)\n",
        "test_flat = np.asarray(test_flat)"
      ],
      "metadata": {
        "id": "tvD8pOSh-L3x"
      },
      "execution_count": null,
      "outputs": []
    },
    {
      "cell_type": "code",
      "source": [
        "lda = LinearDiscriminantAnalysis(n_components=2)\n",
        "train_image_gcn_lda = lda.fit(train_flat, train_label).transform(train_flat)\n",
        "test_image_gcn_lda = lda.fit(test_flat, test_label).transform(test_flat)"
      ],
      "metadata": {
        "id": "r6F0_74b9kh6"
      },
      "execution_count": null,
      "outputs": []
    },
    {
      "cell_type": "markdown",
      "source": [
        "Logistic regression with gcn normalization and lda dimensionality reduction"
      ],
      "metadata": {
        "id": "moqJYYXAWaaq"
      }
    },
    {
      "cell_type": "code",
      "source": [
        "start = timeit.default_timer()\n",
        "clf_LR.fit(train_image_gcn_lda, train_label)\n",
        "pred_label_LR = clf_LR.predict(test_image_gcn_lda)\n",
        "acc_LR = accuracy_score(test_label, pred_label_LR)\n",
        "stop = timeit.default_timer()\n",
        "\n",
        "print('Time: ', stop - start) \n",
        "print('Logistic Regresssion Accuracy lda and gcn: ', acc_LR)"
      ],
      "metadata": {
        "colab": {
          "base_uri": "https://localhost:8080/"
        },
        "id": "HDvISO7fAFDI",
        "outputId": "903489e3-736d-442e-874a-85b6b0f49382"
      },
      "execution_count": null,
      "outputs": [
        {
          "output_type": "stream",
          "name": "stdout",
          "text": [
            "Time:  0.01825196000027063\n",
            "Logistic Regresssion Accuracy lda and gcn:  0.9242424242424242\n"
          ]
        }
      ]
    },
    {
      "cell_type": "markdown",
      "source": [
        "SVM with gcn normalization and lda dimensionality reduction"
      ],
      "metadata": {
        "id": "flr_UJeFW_P-"
      }
    },
    {
      "cell_type": "code",
      "source": [
        "start = timeit.default_timer()\n",
        "clf_svm.fit(train_image_gcn_lda, train_label)\n",
        "pred_label_svm = clf_svm.predict(test_image_gcn_lda)\n",
        "acc_svm = accuracy_score(test_label, pred_label_svm)\n",
        "stop = timeit.default_timer()\n",
        "\n",
        "print('Time: ', stop - start) \n",
        "print('SVM Accuracy with lda and gcn: ', acc_svm)"
      ],
      "metadata": {
        "colab": {
          "base_uri": "https://localhost:8080/"
        },
        "id": "BP8q5zhkAfW7",
        "outputId": "61baa581-49ff-401e-ff2f-6bec19cef2c2"
      },
      "execution_count": null,
      "outputs": [
        {
          "output_type": "stream",
          "name": "stdout",
          "text": [
            "Time:  0.00243041699997093\n",
            "SVM Accuracy with lda and gcn:  0.9545454545454546\n"
          ]
        }
      ]
    },
    {
      "cell_type": "markdown",
      "source": [
        "# ***CNN***"
      ],
      "metadata": {
        "id": "P9e9LW6EXDtb"
      }
    },
    {
      "cell_type": "code",
      "source": [
        "train_label_r = train_label.reshape(251,1)\n",
        "test_label_r = test_label.reshape(66,1)"
      ],
      "metadata": {
        "id": "WPNMSm0igpQX"
      },
      "execution_count": null,
      "outputs": []
    },
    {
      "cell_type": "code",
      "source": [
        "model = Sequential()\n",
        "model.add(Conv2D(149, (3, 3), activation='relu', input_shape=(300, 300, 1)))\n",
        "model.add(MaxPooling2D((2, 2)))\n",
        "model.add(Conv2D(294, (3, 3), activation='relu'))\n",
        "model.add(MaxPooling2D((2, 2)))\n",
        "model.add(Conv2D(299, (3, 3), activation='relu'))\n",
        "model.add(MaxPooling2D((2, 2)))\n",
        "model.add(Conv2D(528, (3, 3), activation='relu'))\n",
        "model.add(MaxPooling2D((2, 2)))\n",
        "model.add(Conv2D(896, (3, 3), activation='relu'))\n",
        "model.add(MaxPooling2D((2, 2)))\n",
        "model.add(Flatten())\n",
        "model.add(Dense(343, activation='relu'))\n",
        "model.add(Dense(3, activation='softmax'))\n",
        "model.summary()"
      ],
      "metadata": {
        "colab": {
          "base_uri": "https://localhost:8080/"
        },
        "id": "gRqnv7c6ciA2",
        "outputId": "90aad29a-5fd0-4e07-999b-4fe2dc3f0c1b"
      },
      "execution_count": null,
      "outputs": [
        {
          "output_type": "stream",
          "name": "stdout",
          "text": [
            "Model: \"sequential_79\"\n",
            "_________________________________________________________________\n",
            " Layer (type)                Output Shape              Param #   \n",
            "=================================================================\n",
            " conv2d_275 (Conv2D)         (None, 298, 298, 149)     1490      \n",
            "                                                                 \n",
            " max_pooling2d_221 (MaxPooli  (None, 149, 149, 149)    0         \n",
            " ng2D)                                                           \n",
            "                                                                 \n",
            " conv2d_276 (Conv2D)         (None, 147, 147, 294)     394548    \n",
            "                                                                 \n",
            " max_pooling2d_222 (MaxPooli  (None, 73, 73, 294)      0         \n",
            " ng2D)                                                           \n",
            "                                                                 \n",
            " conv2d_277 (Conv2D)         (None, 71, 71, 299)       791453    \n",
            "                                                                 \n",
            " max_pooling2d_223 (MaxPooli  (None, 35, 35, 299)      0         \n",
            " ng2D)                                                           \n",
            "                                                                 \n",
            " conv2d_278 (Conv2D)         (None, 33, 33, 528)       1421376   \n",
            "                                                                 \n",
            " max_pooling2d_224 (MaxPooli  (None, 16, 16, 528)      0         \n",
            " ng2D)                                                           \n",
            "                                                                 \n",
            " conv2d_279 (Conv2D)         (None, 14, 14, 896)       4258688   \n",
            "                                                                 \n",
            " max_pooling2d_225 (MaxPooli  (None, 7, 7, 896)        0         \n",
            " ng2D)                                                           \n",
            "                                                                 \n",
            " flatten_77 (Flatten)        (None, 43904)             0         \n",
            "                                                                 \n",
            " dense_154 (Dense)           (None, 343)               15059415  \n",
            "                                                                 \n",
            " dense_155 (Dense)           (None, 3)                 1032      \n",
            "                                                                 \n",
            "=================================================================\n",
            "Total params: 21,928,002\n",
            "Trainable params: 21,928,002\n",
            "Non-trainable params: 0\n",
            "_________________________________________________________________\n"
          ]
        }
      ]
    },
    {
      "cell_type": "code",
      "source": [
        "model.compile(optimizer='adam',loss=tf.keras.losses.SparseCategoricalCrossentropy(\n",
        "    from_logits=True), metrics=['accuracy'])\n",
        "\n",
        "rep = model.fit(gcn_train, train_label_r, epochs=10, validation_data=(gcn_test, test_label_r))"
      ],
      "metadata": {
        "colab": {
          "base_uri": "https://localhost:8080/"
        },
        "id": "AHvzXazAenA8",
        "outputId": "33d44705-c31f-4d4e-ccf7-32ae4f801d40"
      },
      "execution_count": null,
      "outputs": [
        {
          "output_type": "stream",
          "name": "stdout",
          "text": [
            "Epoch 1/10\n"
          ]
        },
        {
          "output_type": "stream",
          "name": "stderr",
          "text": [
            "/usr/local/lib/python3.7/dist-packages/tensorflow/python/util/dispatch.py:1096: UserWarning: \"`sparse_categorical_crossentropy` received `from_logits=True`, but the `output` argument was produced by a sigmoid or softmax activation and thus does not represent logits. Was this intended?\"\n",
            "  return dispatch_target(*args, **kwargs)\n"
          ]
        },
        {
          "output_type": "stream",
          "name": "stdout",
          "text": [
            "8/8 [==============================] - 14s 2s/step - loss: 1.2945 - accuracy: 0.4661 - val_loss: 0.9667 - val_accuracy: 0.6970\n",
            "Epoch 2/10\n",
            "8/8 [==============================] - 12s 2s/step - loss: 0.6394 - accuracy: 0.7410 - val_loss: 0.4596 - val_accuracy: 0.8182\n",
            "Epoch 3/10\n",
            "8/8 [==============================] - 12s 2s/step - loss: 0.3690 - accuracy: 0.8446 - val_loss: 0.5514 - val_accuracy: 0.7121\n",
            "Epoch 4/10\n",
            "8/8 [==============================] - 13s 2s/step - loss: 0.2403 - accuracy: 0.9124 - val_loss: 0.4384 - val_accuracy: 0.9091\n",
            "Epoch 5/10\n",
            "8/8 [==============================] - 13s 2s/step - loss: 0.2085 - accuracy: 0.9203 - val_loss: 0.4043 - val_accuracy: 0.9091\n",
            "Epoch 6/10\n",
            "8/8 [==============================] - 13s 2s/step - loss: 0.1660 - accuracy: 0.9323 - val_loss: 0.4293 - val_accuracy: 0.8636\n",
            "Epoch 7/10\n",
            "8/8 [==============================] - 13s 2s/step - loss: 0.1300 - accuracy: 0.9522 - val_loss: 0.5149 - val_accuracy: 0.9242\n",
            "Epoch 8/10\n",
            "8/8 [==============================] - 13s 2s/step - loss: 0.1513 - accuracy: 0.9243 - val_loss: 0.5503 - val_accuracy: 0.9091\n",
            "Epoch 9/10\n",
            "8/8 [==============================] - 13s 2s/step - loss: 0.1863 - accuracy: 0.9243 - val_loss: 0.6712 - val_accuracy: 0.8182\n",
            "Epoch 10/10\n",
            "8/8 [==============================] - 12s 2s/step - loss: 0.1551 - accuracy: 0.9363 - val_loss: 0.3978 - val_accuracy: 0.9091\n"
          ]
        }
      ]
    },
    {
      "cell_type": "code",
      "source": [
        "test_loss, test_acc = model.evaluate(gcn_test, test_label_r)\n",
        "print(test_acc)"
      ],
      "metadata": {
        "colab": {
          "base_uri": "https://localhost:8080/"
        },
        "id": "rUZtdlJzgGlb",
        "outputId": "bf0441b1-81c4-4bf0-ada5-d94b3a3f6ed9"
      },
      "execution_count": null,
      "outputs": [
        {
          "output_type": "stream",
          "name": "stdout",
          "text": [
            "3/3 [==============================] - 1s 236ms/step - loss: 0.3978 - accuracy: 0.9091\n",
            "0.9090909361839294\n"
          ]
        }
      ]
    }
  ]
}